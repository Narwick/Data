{
  "cells": [
    {
      "cell_type": "markdown",
      "metadata": {
        "id": "z_eonWE4nHoN"
      },
      "source": [
        "Esse é um projeto em que estou fazendo para aprimorar minhas Skills de Data Cleaning.<br>\n",
        "O Dataset escolhido foi: Full anime list (20k+) in MAL 2023.<br>\n",
        "Está disponível no Kaggle nesse link: https://www.kaggle.com/datasets/crxxom/all-animes-in-mal"
      ]
    },
    {
      "cell_type": "markdown",
      "metadata": {
        "id": "Hx_SyF1jnHoO"
      },
      "source": [
        "O Dataset será limpado através dos seguintes passos: <br>\n",
        "1. Checar o número de colunas<br>\n",
        "2. Alterar os nomes das colunas para os nomes corretos.<br>\n",
        "3. Checar valores vazios/nulos.<br>\n",
        "4. Checar valores duplicados<br>\n"
      ]
    },
    {
      "cell_type": "code",
      "execution_count": 1,
      "metadata": {
        "id": "TcNaUuygnHoO"
      },
      "outputs": [],
      "source": [
        "# O primeiro passo é importar as Libs que serão utilizadas\n",
        "import pandas as pd"
      ]
    },
    {
      "cell_type": "code",
      "execution_count": 2,
      "metadata": {
        "id": "6NUIq9FanHoP",
        "outputId": "6d5f7bc0-ca20-42f8-e1dc-15af9c68c2a3"
      },
      "outputs": [
        {
          "data": {
            "text/html": [
              "<div>\n",
              "<style scoped>\n",
              "    .dataframe tbody tr th:only-of-type {\n",
              "        vertical-align: middle;\n",
              "    }\n",
              "\n",
              "    .dataframe tbody tr th {\n",
              "        vertical-align: top;\n",
              "    }\n",
              "\n",
              "    .dataframe thead th {\n",
              "        text-align: right;\n",
              "    }\n",
              "</style>\n",
              "<table border=\"1\" class=\"dataframe\">\n",
              "  <thead>\n",
              "    <tr style=\"text-align: right;\">\n",
              "      <th></th>\n",
              "      <th>Unnamed: 0</th>\n",
              "      <th>title</th>\n",
              "      <th>episodes</th>\n",
              "      <th>status</th>\n",
              "      <th>theme</th>\n",
              "      <th>demographic</th>\n",
              "      <th>genres</th>\n",
              "      <th>type</th>\n",
              "      <th>favorites</th>\n",
              "      <th>popularity</th>\n",
              "      <th>rank</th>\n",
              "      <th>score</th>\n",
              "      <th>members</th>\n",
              "      <th>synopsis</th>\n",
              "      <th>aired</th>\n",
              "      <th>duration</th>\n",
              "      <th>premiered</th>\n",
              "      <th>studios</th>\n",
              "    </tr>\n",
              "  </thead>\n",
              "  <tbody>\n",
              "    <tr>\n",
              "      <th>0</th>\n",
              "      <td>0</td>\n",
              "      <td>Fullmetal Alchemist: Brotherhood</td>\n",
              "      <td>64</td>\n",
              "      <td>Finished Airing</td>\n",
              "      <td>Military</td>\n",
              "      <td>Shounen</td>\n",
              "      <td>Action,Adventure,Drama,Fantasy,</td>\n",
              "      <td>TV</td>\n",
              "      <td>218,277</td>\n",
              "      <td>#3</td>\n",
              "      <td>#1</td>\n",
              "      <td>9.10</td>\n",
              "      <td>3,190,961</td>\n",
              "      <td>After a horrific alchemy experiment goes wrong...</td>\n",
              "      <td>Apr 5, 2009 to Jul 4, 2010</td>\n",
              "      <td>24 min. per ep.</td>\n",
              "      <td>Spring 2009</td>\n",
              "      <td>Bones</td>\n",
              "    </tr>\n",
              "    <tr>\n",
              "      <th>1</th>\n",
              "      <td>1</td>\n",
              "      <td>Steins;Gate</td>\n",
              "      <td>24</td>\n",
              "      <td>Finished Airing</td>\n",
              "      <td>Unknown</td>\n",
              "      <td>Unknown</td>\n",
              "      <td>Drama,Sci-Fi,Suspense,</td>\n",
              "      <td>TV</td>\n",
              "      <td>183,596</td>\n",
              "      <td>#13</td>\n",
              "      <td>#2</td>\n",
              "      <td>9.07</td>\n",
              "      <td>2,452,142</td>\n",
              "      <td>Eccentric scientist Rintarou Okabe has a never...</td>\n",
              "      <td>Apr 6, 2011 to Sep 14, 2011</td>\n",
              "      <td>24 min. per ep.</td>\n",
              "      <td>Spring 2011</td>\n",
              "      <td>White Fox</td>\n",
              "    </tr>\n",
              "    <tr>\n",
              "      <th>2</th>\n",
              "      <td>2</td>\n",
              "      <td>Bleach: Sennen Kessen-hen</td>\n",
              "      <td>13</td>\n",
              "      <td>Finished Airing</td>\n",
              "      <td>Unknown</td>\n",
              "      <td>Shounen</td>\n",
              "      <td>Action,Adventure,Fantasy,</td>\n",
              "      <td>TV</td>\n",
              "      <td>18,421</td>\n",
              "      <td>#458</td>\n",
              "      <td>#3</td>\n",
              "      <td>9.06</td>\n",
              "      <td>455,428</td>\n",
              "      <td>Substitute Soul Reaper Ichigo Kurosaki spends ...</td>\n",
              "      <td>Oct 11, 2022 to Dec 27, 2022</td>\n",
              "      <td>24 min. per ep.</td>\n",
              "      <td>Fall 2022</td>\n",
              "      <td>Pierrot</td>\n",
              "    </tr>\n",
              "    <tr>\n",
              "      <th>3</th>\n",
              "      <td>3</td>\n",
              "      <td>Gintama°</td>\n",
              "      <td>51</td>\n",
              "      <td>Finished Airing</td>\n",
              "      <td>Unknown</td>\n",
              "      <td>Shounen</td>\n",
              "      <td>Action,Comedy,Sci-Fi,</td>\n",
              "      <td>TV</td>\n",
              "      <td>16,042</td>\n",
              "      <td>#332</td>\n",
              "      <td>#4</td>\n",
              "      <td>9.06</td>\n",
              "      <td>599,235</td>\n",
              "      <td>Gintoki, Shinpachi, and Kagura return as the f...</td>\n",
              "      <td>Apr 8, 2015 to Mar 30, 2016</td>\n",
              "      <td>24 min. per ep.</td>\n",
              "      <td>Spring 2015</td>\n",
              "      <td>Bandai Namco Pictures</td>\n",
              "    </tr>\n",
              "    <tr>\n",
              "      <th>4</th>\n",
              "      <td>4</td>\n",
              "      <td>Kaguya-sama wa Kokurasetai: Ultra Romantic</td>\n",
              "      <td>13</td>\n",
              "      <td>Finished Airing</td>\n",
              "      <td>School</td>\n",
              "      <td>Seinen</td>\n",
              "      <td>Comedy,Romance,</td>\n",
              "      <td>TV</td>\n",
              "      <td>29,397</td>\n",
              "      <td>#193</td>\n",
              "      <td>#5</td>\n",
              "      <td>9.05</td>\n",
              "      <td>832,346</td>\n",
              "      <td>The elite members of Shuchiin Academy's studen...</td>\n",
              "      <td>Apr 9, 2022 to Jun 25, 2022</td>\n",
              "      <td>23 min. per ep.</td>\n",
              "      <td>Spring 2022</td>\n",
              "      <td>A-1 Pictures</td>\n",
              "    </tr>\n",
              "  </tbody>\n",
              "</table>\n",
              "</div>"
            ],
            "text/plain": [
              "   Unnamed: 0                                       title episodes  \\\n",
              "0           0            Fullmetal Alchemist: Brotherhood       64   \n",
              "1           1                                 Steins;Gate       24   \n",
              "2           2                   Bleach: Sennen Kessen-hen       13   \n",
              "3           3                                    Gintama°       51   \n",
              "4           4  Kaguya-sama wa Kokurasetai: Ultra Romantic       13   \n",
              "\n",
              "            status     theme demographic                           genres  \\\n",
              "0  Finished Airing  Military     Shounen  Action,Adventure,Drama,Fantasy,   \n",
              "1  Finished Airing   Unknown     Unknown           Drama,Sci-Fi,Suspense,   \n",
              "2  Finished Airing   Unknown     Shounen        Action,Adventure,Fantasy,   \n",
              "3  Finished Airing   Unknown     Shounen            Action,Comedy,Sci-Fi,   \n",
              "4  Finished Airing    School      Seinen                  Comedy,Romance,   \n",
              "\n",
              "  type favorites popularity rank  score    members  \\\n",
              "0   TV   218,277         #3   #1   9.10  3,190,961   \n",
              "1   TV   183,596        #13   #2   9.07  2,452,142   \n",
              "2   TV    18,421       #458   #3   9.06    455,428   \n",
              "3   TV    16,042       #332   #4   9.06    599,235   \n",
              "4   TV    29,397       #193   #5   9.05    832,346   \n",
              "\n",
              "                                            synopsis  \\\n",
              "0  After a horrific alchemy experiment goes wrong...   \n",
              "1  Eccentric scientist Rintarou Okabe has a never...   \n",
              "2  Substitute Soul Reaper Ichigo Kurosaki spends ...   \n",
              "3  Gintoki, Shinpachi, and Kagura return as the f...   \n",
              "4  The elite members of Shuchiin Academy's studen...   \n",
              "\n",
              "                          aired         duration    premiered  \\\n",
              "0    Apr 5, 2009 to Jul 4, 2010  24 min. per ep.  Spring 2009   \n",
              "1   Apr 6, 2011 to Sep 14, 2011  24 min. per ep.  Spring 2011   \n",
              "2  Oct 11, 2022 to Dec 27, 2022  24 min. per ep.    Fall 2022   \n",
              "3   Apr 8, 2015 to Mar 30, 2016  24 min. per ep.  Spring 2015   \n",
              "4   Apr 9, 2022 to Jun 25, 2022  23 min. per ep.  Spring 2022   \n",
              "\n",
              "                 studios  \n",
              "0                  Bones  \n",
              "1              White Fox  \n",
              "2                Pierrot  \n",
              "3  Bandai Namco Pictures  \n",
              "4           A-1 Pictures  "
            ]
          },
          "execution_count": 2,
          "metadata": {},
          "output_type": "execute_result"
        }
      ],
      "source": [
        "# Agora importaremos o Dataset\n",
        "df = pd.read_csv(\"mal_anime.csv\")\n",
        "df.head()"
      ]
    },
    {
      "cell_type": "code",
      "execution_count": 3,
      "metadata": {
        "id": "5eEtMqTInHoP",
        "outputId": "da2fec61-56fd-460d-93e8-105811a1a324"
      },
      "outputs": [
        {
          "data": {
            "text/plain": [
              "Index(['Unnamed: 0', 'title', 'episodes', 'status', 'theme', 'demographic',\n",
              "       'genres', 'type', 'favorites', 'popularity', 'rank', 'score', 'members',\n",
              "       'synopsis', 'aired', 'duration', 'premiered', 'studios'],\n",
              "      dtype='object')"
            ]
          },
          "execution_count": 3,
          "metadata": {},
          "output_type": "execute_result"
        }
      ],
      "source": [
        "# Vamos checar todas as colunas\n",
        "df.columns"
      ]
    },
    {
      "cell_type": "code",
      "execution_count": 4,
      "metadata": {
        "id": "A6BihLM2nHoP"
      },
      "outputs": [],
      "source": [
        "# Vamos apagar a coluna Unnamed pois não faz sentido tê-la no momento.\n",
        "df.drop(columns=['Unnamed: 0'],inplace=True)"
      ]
    },
    {
      "cell_type": "code",
      "execution_count": 5,
      "metadata": {
        "id": "UstLHhJ6nHoP"
      },
      "outputs": [],
      "source": [
        "# Agora iremos renomear as colunas restantes com um nome mais conciso.\n",
        "df.rename(columns={\n",
        "                'title':'Title',\n",
        "                'episodes':'Episode Count',\n",
        "                'status':'Airing Status',\n",
        "                'theme':'Theme',\n",
        "                'demographic':'Demographic Target',\n",
        "                'genres':'Genres',\n",
        "                'type':'Type (e.g., TV Show, Movie)',\n",
        "                'favorites':'Favorites Count',\n",
        "                'popularity':'Popularity Rank',\n",
        "                'rank':'Overall Rank',\n",
        "                'score':'Average User Score',\n",
        "                'members':'Members Count',\n",
        "                'synopsis':'Synopsis',\n",
        "                'aired':'Airing Date',\n",
        "                'duration':'Duration per Episode',\n",
        "                'premiered':'Premiered Season',\n",
        "                'studios':'Production Studio'},inplace=True\n",
        "        )"
      ]
    },
    {
      "cell_type": "code",
      "execution_count": 6,
      "metadata": {
        "id": "k3iLPphRnHoQ",
        "outputId": "e02bd436-b3c7-4f50-cd70-f240b175e5b9"
      },
      "outputs": [
        {
          "data": {
            "text/html": [
              "<div>\n",
              "<style scoped>\n",
              "    .dataframe tbody tr th:only-of-type {\n",
              "        vertical-align: middle;\n",
              "    }\n",
              "\n",
              "    .dataframe tbody tr th {\n",
              "        vertical-align: top;\n",
              "    }\n",
              "\n",
              "    .dataframe thead th {\n",
              "        text-align: right;\n",
              "    }\n",
              "</style>\n",
              "<table border=\"1\" class=\"dataframe\">\n",
              "  <thead>\n",
              "    <tr style=\"text-align: right;\">\n",
              "      <th></th>\n",
              "      <th>Title</th>\n",
              "      <th>Episode Count</th>\n",
              "      <th>Airing Status</th>\n",
              "      <th>Theme</th>\n",
              "      <th>Demographic Target</th>\n",
              "      <th>Genres</th>\n",
              "      <th>Type (e.g., TV Show, Movie)</th>\n",
              "      <th>Favorites Count</th>\n",
              "      <th>Popularity Rank</th>\n",
              "      <th>Overall Rank</th>\n",
              "      <th>Average User Score</th>\n",
              "      <th>Members Count</th>\n",
              "      <th>Synopsis</th>\n",
              "      <th>Airing Date</th>\n",
              "      <th>Duration per Episode</th>\n",
              "      <th>Premiered Season</th>\n",
              "      <th>Production Studio</th>\n",
              "    </tr>\n",
              "  </thead>\n",
              "  <tbody>\n",
              "    <tr>\n",
              "      <th>0</th>\n",
              "      <td>Fullmetal Alchemist: Brotherhood</td>\n",
              "      <td>64</td>\n",
              "      <td>Finished Airing</td>\n",
              "      <td>Military</td>\n",
              "      <td>Shounen</td>\n",
              "      <td>Action,Adventure,Drama,Fantasy,</td>\n",
              "      <td>TV</td>\n",
              "      <td>218,277</td>\n",
              "      <td>#3</td>\n",
              "      <td>#1</td>\n",
              "      <td>9.10</td>\n",
              "      <td>3,190,961</td>\n",
              "      <td>After a horrific alchemy experiment goes wrong...</td>\n",
              "      <td>Apr 5, 2009 to Jul 4, 2010</td>\n",
              "      <td>24 min. per ep.</td>\n",
              "      <td>Spring 2009</td>\n",
              "      <td>Bones</td>\n",
              "    </tr>\n",
              "    <tr>\n",
              "      <th>1</th>\n",
              "      <td>Steins;Gate</td>\n",
              "      <td>24</td>\n",
              "      <td>Finished Airing</td>\n",
              "      <td>Unknown</td>\n",
              "      <td>Unknown</td>\n",
              "      <td>Drama,Sci-Fi,Suspense,</td>\n",
              "      <td>TV</td>\n",
              "      <td>183,596</td>\n",
              "      <td>#13</td>\n",
              "      <td>#2</td>\n",
              "      <td>9.07</td>\n",
              "      <td>2,452,142</td>\n",
              "      <td>Eccentric scientist Rintarou Okabe has a never...</td>\n",
              "      <td>Apr 6, 2011 to Sep 14, 2011</td>\n",
              "      <td>24 min. per ep.</td>\n",
              "      <td>Spring 2011</td>\n",
              "      <td>White Fox</td>\n",
              "    </tr>\n",
              "    <tr>\n",
              "      <th>2</th>\n",
              "      <td>Bleach: Sennen Kessen-hen</td>\n",
              "      <td>13</td>\n",
              "      <td>Finished Airing</td>\n",
              "      <td>Unknown</td>\n",
              "      <td>Shounen</td>\n",
              "      <td>Action,Adventure,Fantasy,</td>\n",
              "      <td>TV</td>\n",
              "      <td>18,421</td>\n",
              "      <td>#458</td>\n",
              "      <td>#3</td>\n",
              "      <td>9.06</td>\n",
              "      <td>455,428</td>\n",
              "      <td>Substitute Soul Reaper Ichigo Kurosaki spends ...</td>\n",
              "      <td>Oct 11, 2022 to Dec 27, 2022</td>\n",
              "      <td>24 min. per ep.</td>\n",
              "      <td>Fall 2022</td>\n",
              "      <td>Pierrot</td>\n",
              "    </tr>\n",
              "    <tr>\n",
              "      <th>3</th>\n",
              "      <td>Gintama°</td>\n",
              "      <td>51</td>\n",
              "      <td>Finished Airing</td>\n",
              "      <td>Unknown</td>\n",
              "      <td>Shounen</td>\n",
              "      <td>Action,Comedy,Sci-Fi,</td>\n",
              "      <td>TV</td>\n",
              "      <td>16,042</td>\n",
              "      <td>#332</td>\n",
              "      <td>#4</td>\n",
              "      <td>9.06</td>\n",
              "      <td>599,235</td>\n",
              "      <td>Gintoki, Shinpachi, and Kagura return as the f...</td>\n",
              "      <td>Apr 8, 2015 to Mar 30, 2016</td>\n",
              "      <td>24 min. per ep.</td>\n",
              "      <td>Spring 2015</td>\n",
              "      <td>Bandai Namco Pictures</td>\n",
              "    </tr>\n",
              "    <tr>\n",
              "      <th>4</th>\n",
              "      <td>Kaguya-sama wa Kokurasetai: Ultra Romantic</td>\n",
              "      <td>13</td>\n",
              "      <td>Finished Airing</td>\n",
              "      <td>School</td>\n",
              "      <td>Seinen</td>\n",
              "      <td>Comedy,Romance,</td>\n",
              "      <td>TV</td>\n",
              "      <td>29,397</td>\n",
              "      <td>#193</td>\n",
              "      <td>#5</td>\n",
              "      <td>9.05</td>\n",
              "      <td>832,346</td>\n",
              "      <td>The elite members of Shuchiin Academy's studen...</td>\n",
              "      <td>Apr 9, 2022 to Jun 25, 2022</td>\n",
              "      <td>23 min. per ep.</td>\n",
              "      <td>Spring 2022</td>\n",
              "      <td>A-1 Pictures</td>\n",
              "    </tr>\n",
              "  </tbody>\n",
              "</table>\n",
              "</div>"
            ],
            "text/plain": [
              "                                        Title Episode Count    Airing Status  \\\n",
              "0            Fullmetal Alchemist: Brotherhood            64  Finished Airing   \n",
              "1                                 Steins;Gate            24  Finished Airing   \n",
              "2                   Bleach: Sennen Kessen-hen            13  Finished Airing   \n",
              "3                                    Gintama°            51  Finished Airing   \n",
              "4  Kaguya-sama wa Kokurasetai: Ultra Romantic            13  Finished Airing   \n",
              "\n",
              "      Theme Demographic Target                           Genres  \\\n",
              "0  Military            Shounen  Action,Adventure,Drama,Fantasy,   \n",
              "1   Unknown            Unknown           Drama,Sci-Fi,Suspense,   \n",
              "2   Unknown            Shounen        Action,Adventure,Fantasy,   \n",
              "3   Unknown            Shounen            Action,Comedy,Sci-Fi,   \n",
              "4    School             Seinen                  Comedy,Romance,   \n",
              "\n",
              "  Type (e.g., TV Show, Movie) Favorites Count Popularity Rank Overall Rank  \\\n",
              "0                          TV         218,277              #3           #1   \n",
              "1                          TV         183,596             #13           #2   \n",
              "2                          TV          18,421            #458           #3   \n",
              "3                          TV          16,042            #332           #4   \n",
              "4                          TV          29,397            #193           #5   \n",
              "\n",
              "   Average User Score Members Count  \\\n",
              "0                9.10     3,190,961   \n",
              "1                9.07     2,452,142   \n",
              "2                9.06       455,428   \n",
              "3                9.06       599,235   \n",
              "4                9.05       832,346   \n",
              "\n",
              "                                            Synopsis  \\\n",
              "0  After a horrific alchemy experiment goes wrong...   \n",
              "1  Eccentric scientist Rintarou Okabe has a never...   \n",
              "2  Substitute Soul Reaper Ichigo Kurosaki spends ...   \n",
              "3  Gintoki, Shinpachi, and Kagura return as the f...   \n",
              "4  The elite members of Shuchiin Academy's studen...   \n",
              "\n",
              "                    Airing Date Duration per Episode Premiered Season  \\\n",
              "0    Apr 5, 2009 to Jul 4, 2010      24 min. per ep.      Spring 2009   \n",
              "1   Apr 6, 2011 to Sep 14, 2011      24 min. per ep.      Spring 2011   \n",
              "2  Oct 11, 2022 to Dec 27, 2022      24 min. per ep.        Fall 2022   \n",
              "3   Apr 8, 2015 to Mar 30, 2016      24 min. per ep.      Spring 2015   \n",
              "4   Apr 9, 2022 to Jun 25, 2022      23 min. per ep.      Spring 2022   \n",
              "\n",
              "       Production Studio  \n",
              "0                  Bones  \n",
              "1              White Fox  \n",
              "2                Pierrot  \n",
              "3  Bandai Namco Pictures  \n",
              "4           A-1 Pictures  "
            ]
          },
          "execution_count": 6,
          "metadata": {},
          "output_type": "execute_result"
        }
      ],
      "source": [
        "# Vamos checar\n",
        "df.head()"
      ]
    },
    {
      "cell_type": "code",
      "execution_count": 7,
      "metadata": {
        "id": "hk_LxWPqnHoQ",
        "outputId": "31816efd-8651-4da3-df56-6e6dd8c78be8"
      },
      "outputs": [
        {
          "data": {
            "text/plain": [
              "26"
            ]
          },
          "execution_count": 7,
          "metadata": {},
          "output_type": "execute_result"
        }
      ],
      "source": [
        "# Agora vamos checar se a registros duplicados\n",
        "df.duplicated().sum()\n",
        "# Com isso confirmamos que não existem registros duplicados"
      ]
    },
    {
      "cell_type": "code",
      "execution_count": 8,
      "metadata": {
        "id": "KaEjyc_0nHoQ",
        "outputId": "b0266a68-932b-495a-dc1d-495efed65a7f"
      },
      "outputs": [
        {
          "data": {
            "text/plain": [
              "Title                             0\n",
              "Episode Count                     0\n",
              "Airing Status                     0\n",
              "Theme                             0\n",
              "Demographic Target                0\n",
              "Genres                            0\n",
              "Type (e.g., TV Show, Movie)       0\n",
              "Favorites Count                   0\n",
              "Popularity Rank                   0\n",
              "Overall Rank                   4065\n",
              "Average User Score             8968\n",
              "Members Count                     0\n",
              "Synopsis                          0\n",
              "Airing Date                       0\n",
              "Duration per Episode              0\n",
              "Premiered Season                  0\n",
              "Production Studio                 0\n",
              "dtype: int64"
            ]
          },
          "execution_count": 8,
          "metadata": {},
          "output_type": "execute_result"
        }
      ],
      "source": [
        "# Vamos checar as colunas que possuem valores nulos no Dataset\n",
        "df.isnull().sum()"
      ]
    },
    {
      "cell_type": "code",
      "execution_count": 9,
      "metadata": {
        "id": "qZjN0mCynHoQ",
        "outputId": "8ff5e588-2ee0-43dd-ff61-a2fe521264a9"
      },
      "outputs": [
        {
          "name": "stdout",
          "output_type": "stream",
          "text": [
            "<class 'pandas.core.frame.DataFrame'>\n",
            "RangeIndex: 24262 entries, 0 to 24261\n",
            "Data columns (total 17 columns):\n",
            " #   Column                       Non-Null Count  Dtype  \n",
            "---  ------                       --------------  -----  \n",
            " 0   Title                        24262 non-null  object \n",
            " 1   Episode Count                24262 non-null  object \n",
            " 2   Airing Status                24262 non-null  object \n",
            " 3   Theme                        24262 non-null  object \n",
            " 4   Demographic Target           24262 non-null  object \n",
            " 5   Genres                       24262 non-null  object \n",
            " 6   Type (e.g., TV Show, Movie)  24262 non-null  object \n",
            " 7   Favorites Count              24262 non-null  object \n",
            " 8   Popularity Rank              24262 non-null  object \n",
            " 9   Overall Rank                 20197 non-null  object \n",
            " 10  Average User Score           15294 non-null  float64\n",
            " 11  Members Count                24262 non-null  object \n",
            " 12  Synopsis                     24262 non-null  object \n",
            " 13  Airing Date                  24262 non-null  object \n",
            " 14  Duration per Episode         24262 non-null  object \n",
            " 15  Premiered Season             24262 non-null  object \n",
            " 16  Production Studio            24262 non-null  object \n",
            "dtypes: float64(1), object(16)\n",
            "memory usage: 3.1+ MB\n"
          ]
        }
      ],
      "source": [
        "# Podemos ver que possuimos muitos nulos nas colunas \"Overall Rank\" e \"Average User Score\", então vamos trata-las.\n",
        "# Primeiro vamos verificar o tipo do objeto dessas colunas\n",
        "df.info()"
      ]
    },
    {
      "cell_type": "code",
      "execution_count": 10,
      "metadata": {
        "id": "GAR4QbYqnHoR"
      },
      "outputs": [],
      "source": [
        "# Vamos retirar a \"#\" da coluna \"Overall Rank\" e preencher os valores nulos como 0.\n",
        "df['Overall Rank'] = df['Overall Rank'].str.replace('#','')\n",
        "df['Overall Rank'].fillna('0',inplace=True)"
      ]
    },
    {
      "cell_type": "code",
      "execution_count": 11,
      "metadata": {
        "id": "sduSV0Q4nHoR"
      },
      "outputs": [],
      "source": [
        "# Vamos agora converter para inteiro.\n",
        "df['Overall Rank'] = df['Overall Rank'].astype('Int32')"
      ]
    },
    {
      "cell_type": "code",
      "execution_count": 12,
      "metadata": {
        "id": "UBYTJkMnnHoR"
      },
      "outputs": [],
      "source": [
        "# Agora vamos tratar a coluna \"Popularity Rank\".\n",
        "df['Popularity Rank'] = df['Popularity Rank'].str.replace('#','')\n",
        "df['Popularity Rank'] = df['Popularity Rank'].astype('int32')\n"
      ]
    },
    {
      "cell_type": "code",
      "execution_count": 13,
      "metadata": {
        "id": "a9Wpk3j1nHoR"
      },
      "outputs": [],
      "source": [
        "# Agora vamos tratar a coluna \"Average User Score\".\n",
        "df['Average User Score'].fillna(0.00,inplace=True)"
      ]
    },
    {
      "cell_type": "code",
      "execution_count": 14,
      "metadata": {
        "id": "EilGtPUYnHoR",
        "outputId": "cdb66fb5-335c-40f8-e00b-879109b2aec4"
      },
      "outputs": [
        {
          "name": "stdout",
          "output_type": "stream",
          "text": [
            "<class 'pandas.core.frame.DataFrame'>\n",
            "RangeIndex: 24262 entries, 0 to 24261\n",
            "Data columns (total 17 columns):\n",
            " #   Column                       Non-Null Count  Dtype  \n",
            "---  ------                       --------------  -----  \n",
            " 0   Title                        24262 non-null  object \n",
            " 1   Episode Count                24262 non-null  object \n",
            " 2   Airing Status                24262 non-null  object \n",
            " 3   Theme                        24262 non-null  object \n",
            " 4   Demographic Target           24262 non-null  object \n",
            " 5   Genres                       24262 non-null  object \n",
            " 6   Type (e.g., TV Show, Movie)  24262 non-null  object \n",
            " 7   Favorites Count              24262 non-null  object \n",
            " 8   Popularity Rank              24262 non-null  int32  \n",
            " 9   Overall Rank                 24262 non-null  Int32  \n",
            " 10  Average User Score           24262 non-null  float64\n",
            " 11  Members Count                24262 non-null  object \n",
            " 12  Synopsis                     24262 non-null  object \n",
            " 13  Airing Date                  24262 non-null  object \n",
            " 14  Duration per Episode         24262 non-null  object \n",
            " 15  Premiered Season             24262 non-null  object \n",
            " 16  Production Studio            24262 non-null  object \n",
            "dtypes: Int32(1), float64(1), int32(1), object(14)\n",
            "memory usage: 3.0+ MB\n"
          ]
        }
      ],
      "source": [
        "# Vamos checar se está tudo certo agora.\n",
        "df.info()"
      ]
    },
    {
      "cell_type": "code",
      "execution_count": 15,
      "metadata": {
        "id": "KWPu0bVPnHoR",
        "outputId": "89fc95fb-03fe-4d95-faad-e1e327385fb8"
      },
      "outputs": [
        {
          "data": {
            "text/plain": [
              "array(['64', '24', '13', '51', '10', '2', '1', '148', '110', '12', '201',\n",
              "       '22', '25', '7', '14', '11', '74', '26', '16', '75', '4', '47',\n",
              "       'Unknown', '43', '23', '27', '37', '39', '101', '99', '112', '6',\n",
              "       '15', '120', '62', '8', '50', '20', '33', '40', '17', '94', '79',\n",
              "       '3', '500', '52', '78', '77', '96', '70', '291', '170', '203',\n",
              "       '38', '237', '102', '63', '21', '28', '5', '103', '45', '220', '9',\n",
              "       '153', '109', '34', '104', '18', '366', '145', '69', '36', '30',\n",
              "       '60', '49', '167', '178', '35', '1787', '113', '373', '54', '155',\n",
              "       '161', '114', '100', '46', '97', '19', '195', '42', '358', '127',\n",
              "       '61', '56', '31', '48', '142', '73', '136', '175', '115', '150',\n",
              "       '53', '29', '147', '140', '124', '224', '76', '44', '154', '87',\n",
              "       '131', '58', '130', '276', '93', '67', '128', '72', '384', '330',\n",
              "       '86', '105', '172', '137', '41', '191', '92', '91', '65', '180',\n",
              "       '182', '243', '59', '66', '192', '193', '55', '296', '156', '240',\n",
              "       '68', '32', '694', '260', '258', '146', '95', '331', '164', '380',\n",
              "       '117', '119', '108', '340', '80', '151', '214', '526', '88', '208',\n",
              "       '83', '89', '163', '84', '143', '305', '98', '530', '200', '139',\n",
              "       '510', '1471', '160', '293', '726', '312', '3057', '300', '1428',\n",
              "       '1306', '215', '1006', '1274', '475', '1565', '773', '1818', '227',\n",
              "       '365', '132', '57', '400', '624', '398', '90', '177', '284', '125',\n",
              "       '144', '126', '418', '250', '138', '82', '118', '81', '196', '122',\n",
              "       '744', '230', '325', '294', '85', '1664', '360', '245', '283',\n",
              "       '71', '199', '121', '210', '212', '390', '367', '234', '1000',\n",
              "       '425', '152', '229', '309', '364', '356', '267', '299', '225',\n",
              "       '263', '431', '302', '499', '247', '217', '320', '135', '432',\n",
              "       '800', '420', '116', '162'], dtype=object)"
            ]
          },
          "execution_count": 15,
          "metadata": {},
          "output_type": "execute_result"
        }
      ],
      "source": [
        "# Seguindo essa linha vamos converter as outras colunas para o tipo correto.\n",
        "# Vamos começar pela coluna \"Episode Count\"\n",
        "df['Episode Count'].unique()"
      ]
    },
    {
      "cell_type": "code",
      "execution_count": 16,
      "metadata": {
        "id": "ODMPQT88nHoR"
      },
      "outputs": [],
      "source": [
        "# Como no caso dessa coluna ela representa o número de episodios já lançados, a algumas séries que ainda estão em lançamento então para representar essa séries inacabadas optei por usar o -1 para representa-las\n",
        "df['Episode Count'] = df['Episode Count'].str.replace('Unknown','-1')\n",
        "df['Episode Count'] = df['Episode Count'].astype(\"int32\")"
      ]
    },
    {
      "cell_type": "code",
      "execution_count": 17,
      "metadata": {
        "id": "YJ25NzgQnHoR"
      },
      "outputs": [],
      "source": [
        "# Vamos seguir para próxima coluna\n",
        "df['Favorites Count'] = df['Favorites Count'].str.replace(',','')\n",
        "df['Favorites Count'] = df['Favorites Count'].astype(\"int32\")"
      ]
    },
    {
      "cell_type": "code",
      "execution_count": 18,
      "metadata": {
        "id": "0LrXxXzCnHoS"
      },
      "outputs": [],
      "source": [
        "# Próxima\n",
        "df['Members Count'] = df['Members Count'].str.replace(',','')\n",
        "df['Members Count'] = df['Members Count'].astype(\"int32\")"
      ]
    },
    {
      "cell_type": "code",
      "execution_count": 19,
      "metadata": {
        "id": "RYDgTSDBnHoS"
      },
      "outputs": [],
      "source": [
        "# Estudando esse Dataset resolvi fazer algumas modificações\n",
        "# A Primeira é transformar em duas colunas a coluna \"Airing Date\"\n",
        "# Uma de Data início de transmissão e outra de encerramento\n",
        "new = df['Airing Date'].str.split('to',n=1,expand=True)\n",
        "df['Start of Transmission'] = new[0]\n",
        "df['End of Transmission'] = new[1]"
      ]
    },
    {
      "cell_type": "code",
      "execution_count": 20,
      "metadata": {
        "id": "yem21BTXnHoS"
      },
      "outputs": [],
      "source": [
        "# Vamos dropar a coluna que usamos\n",
        "df.drop(columns=['Airing Date'],inplace=True)"
      ]
    },
    {
      "cell_type": "code",
      "execution_count": 21,
      "metadata": {
        "id": "-uUH_kUPnHoS"
      },
      "outputs": [],
      "source": [
        "# Agora faremos o mesmo com a Coluna \"Premiered Season\"\n",
        "new = df['Premiered Season'].str.split(' ',n=1,expand=True)\n",
        "df['Premiered Season'] = new[0]\n",
        "df['Premiered Year'] = new[1]"
      ]
    },
    {
      "cell_type": "markdown",
      "metadata": {
        "id": "Zadke1tUnHoS"
      },
      "source": [
        "Com isso encerro o processo de Data Cleaning deste Dataset, a seguir farei um novo notebook para trabalhar as skills de Data Analysis."
      ]
    }
  ],
  "metadata": {
    "colab": {
      "provenance": []
    },
    "kernelspec": {
      "display_name": "Python 3",
      "language": "python",
      "name": "python3"
    },
    "language_info": {
      "codemirror_mode": {
        "name": "ipython",
        "version": 3
      },
      "file_extension": ".py",
      "mimetype": "text/x-python",
      "name": "python",
      "nbconvert_exporter": "python",
      "pygments_lexer": "ipython3",
      "version": "3.11.5"
    },
    "orig_nbformat": 4
  },
  "nbformat": 4,
  "nbformat_minor": 0
}
